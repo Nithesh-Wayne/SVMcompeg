{
 "cells": [
  {
   "cell_type": "code",
   "execution_count": 35,
   "metadata": {},
   "outputs": [],
   "source": [
    "import numpy as np\n",
    "import matplotlib.pyplot as plt\n",
    "from matplotlib import style\n",
    "style.use(\"ggplot\")\n",
    "from sklearn import svm\n",
    "from sklearn.cross_validation import train_test_split\n",
    "from sklearn.metrics import accuracy_score"
   ]
  },
  {
   "cell_type": "code",
   "execution_count": 36,
   "metadata": {},
   "outputs": [
    {
     "data": {
      "image/png": "[encoded data removed]",
      "text/plain": [
       "<matplotlib.figure.Figure at 0x17bf4082940>"
      ]
     },
     "metadata": {},
     "output_type": "display_data"
    }
   ],
   "source": [
    "x = [2,3.1,1.7,1.9,2.4]\n",
    "x2=[3.6,3.7,4.1,3.9,6]\n",
    "y = [4,6,5,5.2,3.6]\n",
    "y2=[4.1,7,6,5.5,5]\n",
    "plt.scatter(x,y,color=\"b\")\n",
    "plt.scatter(x2,y2,color=\"r\")\n",
    "plt.show()"
   ]
  },
  {
   "cell_type": "code",
   "execution_count": 37,
   "metadata": {},
   "outputs": [],
   "source": [
    "x = np.array([[2,4],\n",
    "             [3.1,6],\n",
    "             [1.7,5],\n",
    "             [1.9,5.2],\n",
    "             [2.4,3.6]]\n",
    "             \n",
    "             )\n",
    "x2=np.array([[3.6,4.1],\n",
    "             [3.7,7],\n",
    "             [4.1,6],\n",
    "             [3.9,5.5],\n",
    "             [6,5]])\n",
    "z=np.concatenate((x,x2), axis=0)\n",
    "y=(0,0,0,0,0,1,1,1,1,1)"
   ]
  },
  {
   "cell_type": "code",
   "execution_count": 39,
   "metadata": {},
   "outputs": [
    {
     "data": {
      "text/plain": [
       "SVC(C=1.0, cache_size=200, class_weight=None, coef0=0.0,\n",
       "  decision_function_shape='ovr', degree=3, gamma='auto', kernel='linear',\n",
       "  max_iter=-1, probability=False, random_state=None, shrinking=True,\n",
       "  tol=0.001, verbose=False)"
      ]
     },
     "execution_count": 39,
     "metadata": {},
     "output_type": "execute_result"
    }
   ],
   "source": [
    "clf = svm.SVC(kernel='linear', C = 1.0)\n",
    "clf.fit(z,y)"
   ]
  },
  {
   "cell_type": "code",
   "execution_count": 40,
   "metadata": {},
   "outputs": [
    {
     "name": "stdout",
     "output_type": "stream",
     "text": [
      "[ 1.26626443  0.1040762 ]\n"
     ]
    },
    {
     "data": {
      "image/png": "[encoded data removed]",
      "text/plain": [
       "<matplotlib.figure.Figure at 0x17bf3f9afd0>"
      ]
     },
     "metadata": {},
     "output_type": "display_data"
    }
   ],
   "source": [
    "w = clf.coef_[0]\n",
    "print(w)\n",
    "\n",
    "a = -w[0] / w[1]\n",
    "\n",
    "xx = np.linspace(1,4)\n",
    "yy = a * xx - clf.intercept_[0] / w[1]\n",
    "\n",
    "h0 = plt.plot(xx, yy,'k-' )\n",
    "\n",
    "plt.scatter(z[:, 0], z[:, 1], c = y)\n",
    "\n",
    "plt.show()"
   ]
  },
  {
   "cell_type": "code",
   "execution_count": 43,
   "metadata": {},
   "outputs": [
    {
     "name": "stdout",
     "output_type": "stream",
     "text": [
      "[0]\n"
     ]
    }
   ],
   "source": [
    "#use any values to predict whether it belongs to group[0] or group[1]\n",
    "print(clf.predict([[1,5]]))"
   ]
  },
  {
   "cell_type": "code",
   "execution_count": 42,
   "metadata": {},
   "outputs": [
    {
     "name": "stdout",
     "output_type": "stream",
     "text": [
      "Accuracy: 1.0\n"
     ]
    }
   ],
   "source": [
    "z_train, z_test, y_train, y_test = train_test_split(z, y, test_size=0.28, random_state=1)\n",
    "clf = svm.SVC(kernel='linear')\n",
    "clf.fit(z_train, y_train)\n",
    "print(\"Accuracy: {}\".format(clf.score(z_train, y_train)))"
   ]
  }
 ],
 "metadata": {
  "kernelspec": {
   "display_name": "Python 3",
   "language": "python",
   "name": "python3"
  },
  "language_info": {
   "codemirror_mode": {
    "name": "ipython",
    "version": 3
   },
   "file_extension": ".py",
   "mimetype": "text/x-python",
   "name": "python",
   "nbconvert_exporter": "python",
   "pygments_lexer": "ipython3",
   "version": "3.5.0"
  }
 },
 "nbformat": 4,
 "nbformat_minor": 2
}
